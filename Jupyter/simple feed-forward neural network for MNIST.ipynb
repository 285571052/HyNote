{
 "cells": [
  {
   "cell_type": "markdown",
   "metadata": {},
   "source": [
    " #  simple feed-forward neural network for MNIST"
   ]
  },
  {
   "cell_type": "code",
   "execution_count": 1,
   "metadata": {
    "collapsed": true
   },
   "outputs": [],
   "source": [
    "import tensorflow as tf\n",
    "import math,os\n",
    "from tensorflow.examples.tutorials.mnist import input_data"
   ]
  },
  {
   "cell_type": "code",
   "execution_count": 2,
   "metadata": {},
   "outputs": [
    {
     "name": "stdout",
     "output_type": "stream",
     "text": [
      "Extracting MNIST_data\\train-images-idx3-ubyte.gz\n",
      "Extracting MNIST_data\\train-labels-idx1-ubyte.gz\n",
      "Extracting MNIST_data\\t10k-images-idx3-ubyte.gz\n",
      "Extracting MNIST_data\\t10k-labels-idx1-ubyte.gz\n"
     ]
    }
   ],
   "source": [
    "# dataset\n",
    "data_sets = input_data.read_data_sets('MNIST_data', one_hot=True)"
   ]
  },
  {
   "cell_type": "markdown",
   "metadata": {},
   "source": [
    "The fake_data flag is used for unit-testing purposes and may be safely ignored by the reader."
   ]
  },
  {
   "cell_type": "code",
   "execution_count": 3,
   "metadata": {
    "collapsed": true
   },
   "outputs": [],
   "source": [
    "# placeholder\n",
    "num_class = 10\n",
    "images_placeholder = tf.placeholder(tf.float32, shape=(None,\n",
    "                                                       28*28))\n",
    "labels_placeholder = tf.placeholder(tf.int32, shape=(None,num_class))"
   ]
  },
  {
   "cell_type": "code",
   "execution_count": 4,
   "metadata": {
    "collapsed": true
   },
   "outputs": [],
   "source": [
    "# build graph\n",
    "hidden_units = 100\n",
    "weights = tf.Variable( tf.truncated_normal([28*28, hidden_units] , stddev = 1.0 / math.sqrt(float(28.28))))\n",
    "\n",
    "biases = tf.Variable(tf.zeros([hidden_units]))\n",
    "\n",
    "hidden1 = tf.nn.relu(tf.matmul(images_placeholder , weights) + biases)\n",
    "\n",
    "weights_o = tf.Variable( tf.truncated_normal([hidden_units,num_class] , stddev = 1.0 / math.sqrt(float(28.28))))\n",
    "biases_o = tf.Variable(tf.zeros([num_class]))\n",
    "\n",
    "logits = tf.matmul(hidden1, weights_o) + biases_o"
   ]
  },
  {
   "cell_type": "code",
   "execution_count": 5,
   "metadata": {
    "collapsed": true
   },
   "outputs": [],
   "source": [
    "# loss\n",
    "cross_entropy = tf.reduce_mean(\n",
    "    tf.nn.softmax_cross_entropy_with_logits(labels=labels_placeholder, logits=logits))"
   ]
  },
  {
   "cell_type": "code",
   "execution_count": 6,
   "metadata": {
    "collapsed": true
   },
   "outputs": [],
   "source": [
    "# train and predict\n",
    "train_step = tf.train.AdamOptimizer(1e-4).minimize(cross_entropy)\n",
    "\n",
    "correct_prediction = tf.equal(tf.argmax(logits, 1), tf.argmax(labels_placeholder, 1))\n",
    "\n",
    "accuracy = tf.reduce_mean(tf.cast(correct_prediction, tf.float32))"
   ]
  },
  {
   "cell_type": "code",
   "execution_count": 7,
   "metadata": {
    "collapsed": true,
    "scrolled": true
   },
   "outputs": [],
   "source": [
    "# 收集信息到tesorboard 和 保存\n",
    "tf.summary.scalar('loss', cross_entropy)\n",
    "tf.summary.scalar('accuracy', accuracy)\n",
    "summary = tf.summary.merge_all()\n",
    "\n",
    "sess = tf.Session()\n",
    "log_dir = './tmplog'\n",
    "if tf.gfile.Exists(log_dir):\n",
    "    tf.gfile.DeleteRecursively(log_dir)\n",
    "tf.gfile.MakeDirs(log_dir)\n",
    "summary_writer = tf.summary.FileWriter(log_dir, sess.graph)\n",
    "\n",
    "saver = tf.train.Saver()"
   ]
  },
  {
   "cell_type": "code",
   "execution_count": 8,
   "metadata": {},
   "outputs": [
    {
     "name": "stdout",
     "output_type": "stream",
     "text": [
      "step 99, training accuracy 0.3 , loss 1.98607\n",
      "step 199, training accuracy 0.44 , loss 1.68936\n",
      "step 299, training accuracy 0.6 , loss 1.16975\n",
      "step 399, training accuracy 0.68 , loss 1.07186\n",
      "step 499, training accuracy 0.72 , loss 0.86204\n",
      "step 599, training accuracy 0.84 , loss 0.69064\n",
      "step 699, training accuracy 0.84 , loss 0.696578\n",
      "step 799, training accuracy 0.72 , loss 0.766255\n",
      "step 899, training accuracy 0.78 , loss 0.661721\n",
      "step 999, training accuracy 0.92 , loss 0.387514\n",
      "test accuracy 0.8569\n"
     ]
    }
   ],
   "source": [
    "sess.run(tf.global_variables_initializer())\n",
    "for i in range(1000):\n",
    "    batch = data_sets.train.next_batch(50)\n",
    "    feed_dict = {images_placeholder: batch[0], labels_placeholder: batch[1]}\n",
    "    sess.run(train_step,feed_dict=feed_dict)    \n",
    "    \n",
    "    if (i + 1) % 100 == 0:\n",
    "        summary_str,train_accuracy,loss = sess.run([summary,accuracy,cross_entropy], feed_dict=feed_dict)\n",
    "        print('step %d, training accuracy %g , loss %g' % (i, train_accuracy,loss))\n",
    "\n",
    "        summary_writer.add_summary(summary_str, i)\n",
    "        summary_writer.flush()\n",
    "\n",
    "        checkpoint_file = os.path.join(log_dir, 'model.ckpt')\n",
    "        saver.save(sess, checkpoint_file, global_step=i)\n",
    "\n",
    "batch_size = 50\n",
    "batch_num = int(data_sets.test.num_examples / batch_size)\n",
    "test_accuracy = 0\n",
    "\n",
    "for i in range(batch_num):\n",
    "    batch = data_sets.test.next_batch(batch_size)\n",
    "    test_accuracy += sess.run(accuracy,feed_dict={images_placeholder: batch[0],\n",
    "                                          labels_placeholder: batch[1]})\n",
    "\n",
    "test_accuracy /= batch_num\n",
    "print(\"test accuracy %g\"%test_accuracy)"
   ]
  },
  {
   "cell_type": "code",
   "execution_count": null,
   "metadata": {
    "collapsed": true
   },
   "outputs": [],
   "source": []
  }
 ],
 "metadata": {
  "kernelspec": {
   "display_name": "Python 3",
   "language": "python",
   "name": "python3"
  },
  "language_info": {
   "codemirror_mode": {
    "name": "ipython",
    "version": 3
   },
   "file_extension": ".py",
   "mimetype": "text/x-python",
   "name": "python",
   "nbconvert_exporter": "python",
   "pygments_lexer": "ipython3",
   "version": "3.5.4"
  }
 },
 "nbformat": 4,
 "nbformat_minor": 2
}
