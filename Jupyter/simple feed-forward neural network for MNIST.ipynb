{
 "cells": [
  {
   "cell_type": "markdown",
   "metadata": {},
   "source": [
    " #  simple feed-forward neural network for MNIST"
   ]
  },
  {
   "cell_type": "code",
   "execution_count": 24,
   "metadata": {
    "collapsed": true
   },
   "outputs": [],
   "source": [
    "import tensorflow as tf\n",
    "import math\n",
    "from tensorflow.examples.tutorials.mnist import input_data"
   ]
  },
  {
   "cell_type": "code",
   "execution_count": 25,
   "metadata": {},
   "outputs": [
    {
     "name": "stdout",
     "output_type": "stream",
     "text": [
      "Extracting MNIST_data\\train-images-idx3-ubyte.gz\n",
      "Extracting MNIST_data\\train-labels-idx1-ubyte.gz\n",
      "Extracting MNIST_data\\t10k-images-idx3-ubyte.gz\n",
      "Extracting MNIST_data\\t10k-labels-idx1-ubyte.gz\n"
     ]
    }
   ],
   "source": [
    "# dataset\n",
    "data_sets = input_data.read_data_sets('MNIST_data', one_hot=True)"
   ]
  },
  {
   "cell_type": "markdown",
   "metadata": {},
   "source": [
    "The fake_data flag is used for unit-testing purposes and may be safely ignored by the reader."
   ]
  },
  {
   "cell_type": "code",
   "execution_count": 26,
   "metadata": {},
   "outputs": [],
   "source": [
    "# placeholder\n",
    "num_class = 10\n",
    "images_placeholder = tf.placeholder(tf.float32, shape=(None,\n",
    "                                                       28*28))\n",
    "labels_placeholder = tf.placeholder(tf.int32, shape=(None,num_class))"
   ]
  },
  {
   "cell_type": "code",
   "execution_count": 27,
   "metadata": {},
   "outputs": [],
   "source": [
    "# build graph\n",
    "hidden_units = 100\n",
    "weights = tf.Variable( tf.truncated_normal([28*28, hidden_units] , stddev = 1.0 / math.sqrt(float(28.28))))\n",
    "\n",
    "biases = tf.Variable(tf.zeros([hidden_units]))\n",
    "\n",
    "hidden1 = tf.nn.relu(tf.matmul(images_placeholder , weights) + biases)\n",
    "\n",
    "weights_o = tf.Variable( tf.truncated_normal([hidden_units,num_class] , stddev = 1.0 / math.sqrt(float(28.28))))\n",
    "biases_o = tf.Variable(tf.zeros([num_class]))\n",
    "\n",
    "logits = tf.matmul(hidden1, weights_o) + biases_o"
   ]
  },
  {
   "cell_type": "code",
   "execution_count": 28,
   "metadata": {
    "collapsed": true
   },
   "outputs": [],
   "source": [
    "# loss\n",
    "cross_entropy = tf.reduce_mean(\n",
    "    tf.nn.softmax_cross_entropy_with_logits(labels=labels_placeholder, logits=logits))\n"
   ]
  },
  {
   "cell_type": "code",
   "execution_count": 29,
   "metadata": {
    "collapsed": true
   },
   "outputs": [],
   "source": [
    "# train and predict\n",
    "train_step = tf.train.AdamOptimizer(1e-4).minimize(cross_entropy)\n",
    "\n",
    "correct_prediction = tf.equal(tf.argmax(logits, 1), tf.argmax(labels_placeholder, 1))\n",
    "\n",
    "accuracy = tf.reduce_mean(tf.cast(correct_prediction, tf.float32))"
   ]
  },
  {
   "cell_type": "code",
   "execution_count": 38,
   "metadata": {},
   "outputs": [
    {
     "name": "stdout",
     "output_type": "stream",
     "text": [
      "step 0, training accuracy 0.12\n",
      "step 100, training accuracy 0.2\n",
      "step 200, training accuracy 0.46\n",
      "step 300, training accuracy 0.62\n",
      "test accuracy 0.5561\n"
     ]
    }
   ],
   "source": [
    "with tf.Session() as sess:\n",
    "    sess.run(tf.global_variables_initializer())\n",
    "    for i in range(301):\n",
    "        batch = data_sets.train.next_batch(50)\n",
    "        if i % 100 == 0:\n",
    "            train_accuracy = accuracy.eval(feed_dict={\n",
    "              images_placeholder: batch[0], labels_placeholder: batch[1]})\n",
    "            print('step %d, training accuracy %g' % (i, train_accuracy))\n",
    "        train_step.run(feed_dict={images_placeholder: batch[0], labels_placeholder: batch[1]})\n",
    "    \n",
    "    batch_size = 50\n",
    "    batch_num = int(data_sets.test.num_examples / batch_size)\n",
    "    test_accuracy = 0\n",
    "\n",
    "    for i in range(batch_num):\n",
    "        batch = data_sets.test.next_batch(batch_size)\n",
    "        test_accuracy += accuracy.eval(feed_dict={images_placeholder: batch[0],\n",
    "                                              labels_placeholder: batch[1]})\n",
    "\n",
    "    test_accuracy /= batch_num\n",
    "    print(\"test accuracy %g\"%test_accuracy)"
   ]
  },
  {
   "cell_type": "code",
   "execution_count": null,
   "metadata": {
    "collapsed": true
   },
   "outputs": [],
   "source": []
  }
 ],
 "metadata": {
  "kernelspec": {
   "display_name": "Python 3",
   "language": "python",
   "name": "python3"
  },
  "language_info": {
   "codemirror_mode": {
    "name": "ipython",
    "version": 3
   },
   "file_extension": ".py",
   "mimetype": "text/x-python",
   "name": "python",
   "nbconvert_exporter": "python",
   "pygments_lexer": "ipython3",
   "version": "3.5.4"
  }
 },
 "nbformat": 4,
 "nbformat_minor": 2
}
