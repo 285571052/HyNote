{
 "cells": [
  {
   "cell_type": "markdown",
   "metadata": {},
   "source": [
    "# tf.estimator\n",
    "\n",
    " tf.estimator is a high-level TensorFlow library that simplifies the mechanics of machine learning\n",
    " \n",
    " tf.estimator defines many common models"
   ]
  },
  {
   "cell_type": "code",
   "execution_count": 1,
   "metadata": {
    "collapsed": true
   },
   "outputs": [],
   "source": [
    "# NumPy is often used to load, manipulate and preprocess data.\n",
    "import numpy as np\n",
    "import tensorflow as tf"
   ]
  },
  {
   "cell_type": "code",
   "execution_count": 2,
   "metadata": {
    "collapsed": true
   },
   "outputs": [],
   "source": [
    "# Declare list of features. We only have one numeric feature. There are many\n",
    "# other types of columns that are more complicated and useful.\n",
    "feature_columns = [tf.feature_column.numeric_column(\"x\", shape=[1])]"
   ]
  },
  {
   "cell_type": "code",
   "execution_count": 3,
   "metadata": {},
   "outputs": [
    {
     "name": "stdout",
     "output_type": "stream",
     "text": [
      "INFO:tensorflow:Using default config.\n",
      "WARNING:tensorflow:Using temporary folder as model directory: C:\\Users\\qhy28\\AppData\\Local\\Temp\\tmpjuez69ah\n",
      "INFO:tensorflow:Using config: {'_save_checkpoints_steps': None, '_session_config': None, '_keep_checkpoint_every_n_hours': 10000, '_save_summary_steps': 100, '_tf_random_seed': 1, '_model_dir': 'C:\\\\Users\\\\qhy28\\\\AppData\\\\Local\\\\Temp\\\\tmpjuez69ah', '_keep_checkpoint_max': 5, '_log_step_count_steps': 100, '_save_checkpoints_secs': 600}\n"
     ]
    }
   ],
   "source": [
    "# An estimator is the front end to invoke training (fitting) and evaluation\n",
    "# (inference). There are many predefined types like linear regression,\n",
    "# linear classification, and many neural network classifiers and regressors.\n",
    "# The following code provides an estimator that does linear regression.\n",
    "estimator = tf.estimator.LinearRegressor(feature_columns=feature_columns)"
   ]
  },
  {
   "cell_type": "code",
   "execution_count": 4,
   "metadata": {
    "collapsed": true
   },
   "outputs": [],
   "source": [
    "# TensorFlow provides many helper methods to read and set up data sets.\n",
    "# Here we use two data sets: one for training and one for evaluation\n",
    "# We have to tell the function how many batches\n",
    "# of data (num_epochs) we want and how big each batch should be.\n",
    "x_train = np.array([1., 2., 3., 4.])\n",
    "y_train = np.array([0., -1., -2., -3.])\n",
    "x_eval = np.array([2., 5., 8., 1.])\n",
    "y_eval = np.array([-1.01, -4.1, -7, 0.])\n",
    "input_fn = tf.estimator.inputs.numpy_input_fn(\n",
    "    {\"x\": x_train}, y_train, batch_size=4, num_epochs=None, shuffle=True)\n",
    "train_input_fn = tf.estimator.inputs.numpy_input_fn(\n",
    "    {\"x\": x_train}, y_train, batch_size=4, num_epochs=1000, shuffle=False)\n",
    "eval_input_fn = tf.estimator.inputs.numpy_input_fn(\n",
    "    {\"x\": x_eval}, y_eval, batch_size=4, num_epochs=1000, shuffle=False)"
   ]
  },
  {
   "cell_type": "code",
   "execution_count": 5,
   "metadata": {},
   "outputs": [
    {
     "name": "stdout",
     "output_type": "stream",
     "text": [
      "INFO:tensorflow:Create CheckpointSaverHook.\n",
      "INFO:tensorflow:Saving checkpoints for 1 into C:\\Users\\qhy28\\AppData\\Local\\Temp\\tmpjuez69ah\\model.ckpt.\n",
      "INFO:tensorflow:step = 1, loss = 2.0\n",
      "INFO:tensorflow:global_step/sec: 648.894\n",
      "INFO:tensorflow:step = 101, loss = 0.0695062 (0.155 sec)\n",
      "INFO:tensorflow:global_step/sec: 684.454\n",
      "INFO:tensorflow:step = 201, loss = 0.00558304 (0.147 sec)\n",
      "INFO:tensorflow:global_step/sec: 653.129\n",
      "INFO:tensorflow:step = 301, loss = 0.00133005 (0.152 sec)\n",
      "INFO:tensorflow:global_step/sec: 616.852\n",
      "INFO:tensorflow:step = 401, loss = 0.000127367 (0.163 sec)\n",
      "INFO:tensorflow:global_step/sec: 644.705\n",
      "INFO:tensorflow:step = 501, loss = 3.45093e-06 (0.154 sec)\n",
      "INFO:tensorflow:global_step/sec: 661.784\n",
      "INFO:tensorflow:step = 601, loss = 1.29382e-06 (0.152 sec)\n",
      "INFO:tensorflow:global_step/sec: 543.089\n",
      "INFO:tensorflow:step = 701, loss = 1.2287e-07 (0.184 sec)\n",
      "INFO:tensorflow:global_step/sec: 515.104\n",
      "INFO:tensorflow:step = 801, loss = 4.92821e-09 (0.193 sec)\n",
      "INFO:tensorflow:global_step/sec: 653.136\n",
      "INFO:tensorflow:step = 901, loss = 8.39705e-10 (0.154 sec)\n",
      "INFO:tensorflow:Saving checkpoints for 1000 into C:\\Users\\qhy28\\AppData\\Local\\Temp\\tmpjuez69ah\\model.ckpt.\n",
      "INFO:tensorflow:Loss for final step: 1.15165e-10.\n"
     ]
    },
    {
     "data": {
      "text/plain": [
       "<tensorflow.python.estimator.canned.linear.LinearRegressor at 0x2236055fb00>"
      ]
     },
     "execution_count": 5,
     "metadata": {},
     "output_type": "execute_result"
    }
   ],
   "source": [
    "# We can invoke 1000 training steps by invoking the  method and passing the\n",
    "# training data set.\n",
    "estimator.train(input_fn=input_fn, steps=1000)"
   ]
  },
  {
   "cell_type": "code",
   "execution_count": 6,
   "metadata": {},
   "outputs": [
    {
     "name": "stdout",
     "output_type": "stream",
     "text": [
      "INFO:tensorflow:Starting evaluation at 2018-01-21-01:59:33\n",
      "INFO:tensorflow:Restoring parameters from C:\\Users\\qhy28\\AppData\\Local\\Temp\\tmpjuez69ah\\model.ckpt-1000\n",
      "INFO:tensorflow:Finished evaluation at 2018-01-21-01:59:34\n",
      "INFO:tensorflow:Saving dict for global step 1000: average_loss = 1.85985e-11, global_step = 1000, loss = 7.43938e-11\n",
      "INFO:tensorflow:Starting evaluation at 2018-01-21-01:59:35\n",
      "INFO:tensorflow:Restoring parameters from C:\\Users\\qhy28\\AppData\\Local\\Temp\\tmpjuez69ah\\model.ckpt-1000\n",
      "INFO:tensorflow:Finished evaluation at 2018-01-21-01:59:36\n",
      "INFO:tensorflow:Saving dict for global step 1000: average_loss = 0.00252541, global_step = 1000, loss = 0.0101016\n",
      "train metrics: {'global_step': 1000, 'average_loss': 1.8598456e-11, 'loss': 7.4393824e-11}\n",
      "eval metrics: {'global_step': 1000, 'average_loss': 0.0025254053, 'loss': 0.010101621}\n"
     ]
    }
   ],
   "source": [
    "# Here we evaluate how well our model did.\n",
    "train_metrics = estimator.evaluate(input_fn=train_input_fn)\n",
    "eval_metrics = estimator.evaluate(input_fn=eval_input_fn)\n",
    "print(\"train metrics: %r\"% train_metrics)\n",
    "print(\"eval metrics: %r\"% eval_metrics)"
   ]
  },
  {
   "cell_type": "markdown",
   "metadata": {},
   "source": [
    "## A custom model\n",
    "\n",
    "Instead of sub-classing Estimator, we simply provide Estimator a function model_fn that tells tf.estimator how it can evaluate predictions, training steps, and loss. "
   ]
  },
  {
   "cell_type": "code",
   "execution_count": 7,
   "metadata": {
    "collapsed": true
   },
   "outputs": [],
   "source": [
    "# Declare list of features, we only have one real-valued feature\n",
    "def model_fn(features, labels, mode):\n",
    "  # Build a linear model and predict values\n",
    "  W = tf.get_variable(\"W\", [1], dtype=tf.float64)\n",
    "  b = tf.get_variable(\"b\", [1], dtype=tf.float64)\n",
    "  y = W*features['x'] + b\n",
    "  # Loss sub-graph\n",
    "  loss = tf.reduce_sum(tf.square(y - labels))\n",
    "  # Training sub-graph\n",
    "  global_step = tf.train.get_global_step()\n",
    "  optimizer = tf.train.GradientDescentOptimizer(0.01)\n",
    "  train = tf.group(optimizer.minimize(loss),\n",
    "                   tf.assign_add(global_step, 1))\n",
    "  # EstimatorSpec connects subgraphs we built to the\n",
    "  # appropriate functionality.\n",
    "  return tf.estimator.EstimatorSpec(\n",
    "      mode=mode,\n",
    "      predictions=y,\n",
    "      loss=loss,\n",
    "      train_op=train)"
   ]
  },
  {
   "cell_type": "code",
   "execution_count": 8,
   "metadata": {},
   "outputs": [
    {
     "name": "stdout",
     "output_type": "stream",
     "text": [
      "INFO:tensorflow:Using default config.\n",
      "WARNING:tensorflow:Using temporary folder as model directory: C:\\Users\\qhy28\\AppData\\Local\\Temp\\tmpfvzpn2w4\n",
      "INFO:tensorflow:Using config: {'_save_checkpoints_steps': None, '_session_config': None, '_keep_checkpoint_every_n_hours': 10000, '_save_summary_steps': 100, '_tf_random_seed': 1, '_model_dir': 'C:\\\\Users\\\\qhy28\\\\AppData\\\\Local\\\\Temp\\\\tmpfvzpn2w4', '_keep_checkpoint_max': 5, '_log_step_count_steps': 100, '_save_checkpoints_secs': 600}\n"
     ]
    }
   ],
   "source": [
    "estimator = tf.estimator.Estimator(model_fn=model_fn)\n",
    "# define our data sets\n",
    "x_train = np.array([1., 2., 3., 4.])\n",
    "y_train = np.array([0., -1., -2., -3.])\n",
    "x_eval = np.array([2., 5., 8., 1.])\n",
    "y_eval = np.array([-1.01, -4.1, -7., 0.])\n",
    "input_fn = tf.estimator.inputs.numpy_input_fn(\n",
    "    {\"x\": x_train}, y_train, batch_size=4, num_epochs=None, shuffle=True)\n",
    "train_input_fn = tf.estimator.inputs.numpy_input_fn(\n",
    "    {\"x\": x_train}, y_train, batch_size=4, num_epochs=1000, shuffle=False)\n",
    "eval_input_fn = tf.estimator.inputs.numpy_input_fn(\n",
    "    {\"x\": x_eval}, y_eval, batch_size=4, num_epochs=1000, shuffle=False)"
   ]
  },
  {
   "cell_type": "code",
   "execution_count": 9,
   "metadata": {},
   "outputs": [
    {
     "name": "stdout",
     "output_type": "stream",
     "text": [
      "INFO:tensorflow:Create CheckpointSaverHook.\n",
      "INFO:tensorflow:Saving checkpoints for 1 into C:\\Users\\qhy28\\AppData\\Local\\Temp\\tmpfvzpn2w4\\model.ckpt.\n",
      "INFO:tensorflow:step = 1, loss = 13.9564815094\n",
      "INFO:tensorflow:global_step/sec: 979.707\n",
      "INFO:tensorflow:step = 101, loss = 0.0237561250919 (0.103 sec)\n",
      "INFO:tensorflow:global_step/sec: 989.395\n",
      "INFO:tensorflow:step = 201, loss = 0.00314611542075 (0.103 sec)\n",
      "INFO:tensorflow:global_step/sec: 1051.89\n",
      "INFO:tensorflow:step = 301, loss = 4.2992062637e-05 (0.094 sec)\n",
      "INFO:tensorflow:global_step/sec: 989.402\n",
      "INFO:tensorflow:step = 401, loss = 1.74040706131e-05 (0.101 sec)\n",
      "INFO:tensorflow:global_step/sec: 933.9\n",
      "INFO:tensorflow:step = 501, loss = 3.85182547285e-06 (0.109 sec)\n",
      "INFO:tensorflow:global_step/sec: 854.112\n",
      "INFO:tensorflow:step = 601, loss = 1.32488773133e-07 (0.114 sec)\n",
      "INFO:tensorflow:global_step/sec: 812.436\n",
      "INFO:tensorflow:step = 701, loss = 1.40170591005e-08 (0.124 sec)\n",
      "INFO:tensorflow:global_step/sec: 846.865\n",
      "INFO:tensorflow:step = 801, loss = 1.62006780725e-09 (0.117 sec)\n",
      "INFO:tensorflow:global_step/sec: 989.395\n",
      "INFO:tensorflow:step = 901, loss = 1.30736766683e-10 (0.102 sec)\n",
      "INFO:tensorflow:Saving checkpoints for 1000 into C:\\Users\\qhy28\\AppData\\Local\\Temp\\tmpfvzpn2w4\\model.ckpt.\n",
      "INFO:tensorflow:Loss for final step: 1.09120340452e-11.\n"
     ]
    },
    {
     "data": {
      "text/plain": [
       "<tensorflow.python.estimator.estimator.Estimator at 0x223606bab00>"
      ]
     },
     "execution_count": 9,
     "metadata": {},
     "output_type": "execute_result"
    }
   ],
   "source": [
    "# train\n",
    "estimator.train(input_fn=input_fn, steps=1000)"
   ]
  },
  {
   "cell_type": "code",
   "execution_count": 10,
   "metadata": {},
   "outputs": [
    {
     "name": "stdout",
     "output_type": "stream",
     "text": [
      "INFO:tensorflow:Starting evaluation at 2018-01-21-02:26:43\n",
      "INFO:tensorflow:Restoring parameters from C:\\Users\\qhy28\\AppData\\Local\\Temp\\tmpfvzpn2w4\\model.ckpt-1000\n",
      "INFO:tensorflow:Finished evaluation at 2018-01-21-02:26:44\n",
      "INFO:tensorflow:Saving dict for global step 1000: global_step = 1000, loss = 1.24914e-11\n",
      "INFO:tensorflow:Starting evaluation at 2018-01-21-02:26:45\n",
      "INFO:tensorflow:Restoring parameters from C:\\Users\\qhy28\\AppData\\Local\\Temp\\tmpfvzpn2w4\\model.ckpt-1000\n",
      "INFO:tensorflow:Finished evaluation at 2018-01-21-02:26:45\n",
      "INFO:tensorflow:Saving dict for global step 1000: global_step = 1000, loss = 0.0101004\n",
      "train metrics: {'global_step': 1000, 'loss': 1.2491394e-11}\n",
      "eval metrics: {'global_step': 1000, 'loss': 0.010100437}\n"
     ]
    }
   ],
   "source": [
    "# Here we evaluate how well our model did.\n",
    "train_metrics = estimator.evaluate(input_fn=train_input_fn)\n",
    "eval_metrics = estimator.evaluate(input_fn=eval_input_fn)\n",
    "print(\"train metrics: %r\"% train_metrics)\n",
    "print(\"eval metrics: %r\"% eval_metrics)"
   ]
  },
  {
   "cell_type": "code",
   "execution_count": null,
   "metadata": {
    "collapsed": true
   },
   "outputs": [],
   "source": []
  }
 ],
 "metadata": {
  "kernelspec": {
   "display_name": "Python 3",
   "language": "python",
   "name": "python3"
  },
  "language_info": {
   "codemirror_mode": {
    "name": "ipython",
    "version": 3
   },
   "file_extension": ".py",
   "mimetype": "text/x-python",
   "name": "python",
   "nbconvert_exporter": "python",
   "pygments_lexer": "ipython3",
   "version": "3.5.4"
  }
 },
 "nbformat": 4,
 "nbformat_minor": 2
}
